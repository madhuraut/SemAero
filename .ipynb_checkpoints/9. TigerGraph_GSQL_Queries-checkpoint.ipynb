{
 "cells": [
  {
   "cell_type": "code",
   "execution_count": null,
   "metadata": {
    "id": "X-G2otocb18n"
   },
   "outputs": [],
   "source": [
    "# The code is sourced from: https://www.udemy.com/course/tigergraph/. "
   ]
  },
  {
   "cell_type": "code",
   "execution_count": null,
   "metadata": {
    "id": "sImea56ga_nh"
   },
   "outputs": [],
   "source": [
    "# Creating the vertex entity.\n",
    "\n",
    "CREATE VERTEX entity (PRIMARY_ID entity_id INT, entity_name STRING) WITH PRIMARY_ID_AS_ATTRIBUTE = \"true\""
   ]
  },
  {
   "cell_type": "code",
   "execution_count": null,
   "metadata": {
    "id": "72nTaPHvbYUx"
   },
   "outputs": [],
   "source": [
    "# Creating the vertex patent.\n",
    "\n",
    "CREATE VERTEX patent (PRIMARY_ID patent_id STRING, patent_url STRING, patent_title STRING) WITH PRIMARY_ID_AS_ATTRIBUTE = \"true\""
   ]
  },
  {
   "cell_type": "code",
   "execution_count": null,
   "metadata": {
    "id": "E3uCS_J2cD_S"
   },
   "outputs": [],
   "source": [
    "# Creating the edge connected_to.\n",
    "\n",
    "CREATE DIRECTED EDGE connected_to (FROM entity, TO entity, relation_name STRING, sentence STRING)"
   ]
  },
  {
   "cell_type": "code",
   "execution_count": null,
   "metadata": {
    "id": "4UlQXdyJcTix"
   },
   "outputs": [],
   "source": [
    "# Creating the edge from_patent.\n",
    "\n",
    "CREATE DIRECTED EDGE from_patent (FROM entity, TO patent)"
   ]
  },
  {
   "cell_type": "code",
   "execution_count": null,
   "metadata": {
    "id": "mBVDANijcbU6"
   },
   "outputs": [],
   "source": [
    "# Creating the Graph.\n",
    "\n",
    "CREATE GRAPH SemAero (entity, patent, connected_to, from_patent)"
   ]
  },
  {
   "cell_type": "code",
   "execution_count": null,
   "metadata": {
    "id": "kW7IMLm1ckPW"
   },
   "outputs": [],
   "source": [
    "# Using the Graph.\n",
    "\n",
    "USE GRAPH SemAero"
   ]
  },
  {
   "cell_type": "code",
   "execution_count": null,
   "metadata": {
    "id": "hiXBr4w0cx3o"
   },
   "outputs": [],
   "source": [
    "# Creating the Loading Job.\n",
    "\n",
    "BEGIN\n",
    "CREATE LOADING JOB load_SemAero FOR GRAPH SemAero {\n",
    "    DEFINE FILENAME entity = \"/home/tigergraph/mydata/SemAero/entity.csv\";\n",
    "    DEFINE FILENAME patent = \"/home/tigergraph/mydata/SemAero/patent.csv\";\n",
    "    DEFINE FILENAME connected_to = \"/home/tigergraph/mydata/SemAero/connected_to.csv\";\n",
    "    DEFINE FILENAME from_patent = \"/home/tigergraph/mydata/SemAero/from_patent.csv\";\n",
    "    LOAD entity TO VERTEX entity VALUES ($\"entity_id\", $\"entity_name\") USING header = \"true\", separator = \",\";\n",
    "    LOAD patent TO VERTEX patent VALUES ($\"patent_id\", $\"patent_url\", $\"patent_title\") USING header = \"true\", separator = \",\";\n",
    "    LOAD connected_to TO EDGE connected_to VALUES ($\"from_entity_id\", $\"to_entity_id\", $\"relation_name\", $\"sentence\") USING header = \"true\", separator = \",\";\n",
    "    LOAD from_patent TO EDGE from_patent VALUES ($\"entity_id\", $\"patent_id\") USING header = \"true\", separator = \",\";\n",
    "}\n",
    "END"
   ]
  },
  {
   "cell_type": "code",
   "execution_count": null,
   "metadata": {
    "id": "Qzyv6Qgpf_5-"
   },
   "outputs": [],
   "source": [
    "# Running the Loading Job.\n",
    "\n",
    "RUN LOADING JOB load_SemAero"
   ]
  },
  {
   "cell_type": "code",
   "execution_count": null,
   "metadata": {
    "id": "1vtoG4MHgRC7"
   },
   "outputs": [],
   "source": [
    "# Creating the query get_entity to find the entity with maximum connected components.\n",
    "\n",
    "CREATE QUERY get_entity() FOR GRAPH SemAero {\n",
    "    SumAccum <INT> @num_connections;\n",
    "    START = {entity.*};\n",
    "    connections = SELECT a\n",
    "    FROM START-(connected_to)->entity:a\n",
    "    ACCUM a.@num_connections += 1\n",
    "    ORDER BY a.@num_connections DESC\n",
    "    LIMIT 1;\n",
    "    PRINT connections;\n",
    "}"
   ]
  },
  {
   "cell_type": "code",
   "execution_count": null,
   "metadata": {
    "id": "nsQSzqjChhuq"
   },
   "outputs": [],
   "source": [
    "# Creating the query get_community to obtain the nodes connected with the given entity.\n",
    "\n",
    "CREATE QUERY get_community(VERTEX <entity> e) FOR GRAPH SemAero {\n",
    "    START = {entity.*};\n",
    "    community = SELECT s\n",
    "                FROM START:s-(connected_to:c)->entity:a\n",
    "                WHERE a==e;\n",
    "    PRINT community;\n",
    "}"
   ]
  }
 ],
 "metadata": {
  "colab": {
   "provenance": []
  },
  "kernelspec": {
   "display_name": "Python 3 (ipykernel)",
   "language": "python",
   "name": "python3"
  },
  "language_info": {
   "codemirror_mode": {
    "name": "ipython",
    "version": 3
   },
   "file_extension": ".py",
   "mimetype": "text/x-python",
   "name": "python",
   "nbconvert_exporter": "python",
   "pygments_lexer": "ipython3",
   "version": "3.9.7"
  }
 },
 "nbformat": 4,
 "nbformat_minor": 1
}
